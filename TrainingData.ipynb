{
  "nbformat": 4,
  "nbformat_minor": 0,
  "metadata": {
    "colab": {
      "name": "TrainingData.ipynb",
      "provenance": [],
      "authorship_tag": "ABX9TyOg//KQAu+ZV8i8OWf+sI6v",
      "include_colab_link": true
    },
    "kernelspec": {
      "name": "python3",
      "display_name": "Python 3"
    },
    "language_info": {
      "name": "python"
    }
  },
  "cells": [
    {
      "cell_type": "markdown",
      "metadata": {
        "id": "view-in-github",
        "colab_type": "text"
      },
      "source": [
        "<a href=\"https://colab.research.google.com/github/JAKravitz/JPL_WQ_ML/blob/main/TrainingData.ipynb\" target=\"_parent\"><img src=\"https://colab.research.google.com/assets/colab-badge.svg\" alt=\"Open In Colab\"/></a>"
      ]
    },
    {
      "cell_type": "code",
      "execution_count": 1,
      "metadata": {
        "colab": {
          "base_uri": "https://localhost:8080/"
        },
        "id": "iCZ-fPsbOjCu",
        "outputId": "9bfe8082-e3c9-4b7b-f07f-6465f267ef54"
      },
      "outputs": [
        {
          "output_type": "stream",
          "name": "stdout",
          "text": [
            "Mounted at /content/drive\n"
          ]
        }
      ],
      "source": [
        "from google.colab import drive\n",
        "drive.mount('/content/drive')"
      ]
    },
    {
      "cell_type": "code",
      "source": [
        "import pickle\n",
        "with open('/content/drive/MyDrive/nasa_npp/RT/sensorIDX_rrs.p', 'rb') as fp:\n",
        "  sensorData = pickle.load(fp)"
      ],
      "metadata": {
        "id": "61_r5ZWhOw7q"
      },
      "execution_count": 3,
      "outputs": []
    },
    {
      "cell_type": "code",
      "source": [
        "list(sensorData.keys())"
      ],
      "metadata": {
        "colab": {
          "base_uri": "https://localhost:8080/"
        },
        "id": "xQAEeGJXPByV",
        "outputId": "6cbf3fb1-ce3a-4c15-ca4c-c66656a20121"
      },
      "execution_count": 4,
      "outputs": [
        {
          "output_type": "execute_result",
          "data": {
            "text/plain": [
              "['s3', 's2', 'modis', 'meris', 'l8', 'hico']"
            ]
          },
          "metadata": {},
          "execution_count": 4
        }
      ]
    },
    {
      "cell_type": "code",
      "source": [
        "hicoData = sensorData['hico']\n",
        "list(hicoData.keys())"
      ],
      "metadata": {
        "colab": {
          "base_uri": "https://localhost:8080/"
        },
        "id": "EvZBklVbPxyd",
        "outputId": "865709ea-22af-44e3-8759-b4eef81ee825"
      },
      "execution_count": 5,
      "outputs": [
        {
          "output_type": "execute_result",
          "data": {
            "text/plain": [
              "['iHy',\n",
              " '404.98',\n",
              " '410.71',\n",
              " '416.44',\n",
              " '422.16',\n",
              " '427.89',\n",
              " '433.62',\n",
              " '439.35',\n",
              " '445.08',\n",
              " '450.8',\n",
              " '456.53',\n",
              " '462.26',\n",
              " '467.99',\n",
              " '473.72',\n",
              " '479.44',\n",
              " '485.17',\n",
              " '490.9',\n",
              " '496.63',\n",
              " '502.36',\n",
              " '508.08',\n",
              " '513.81',\n",
              " '519.54',\n",
              " '525.27',\n",
              " '531.0',\n",
              " '536.72',\n",
              " '542.45',\n",
              " '548.18',\n",
              " '553.91',\n",
              " '559.64',\n",
              " '565.36',\n",
              " '571.09',\n",
              " '576.82',\n",
              " '582.55',\n",
              " '588.28',\n",
              " '594.0',\n",
              " '599.73',\n",
              " '605.46',\n",
              " '611.19',\n",
              " '616.92',\n",
              " '622.64',\n",
              " '628.37',\n",
              " '634.1',\n",
              " '639.83',\n",
              " '645.56',\n",
              " '651.28',\n",
              " '657.01',\n",
              " '662.74',\n",
              " '668.47',\n",
              " '674.2',\n",
              " '679.92',\n",
              " '685.65',\n",
              " '691.38',\n",
              " '697.11',\n",
              " '702.84',\n",
              " '708.56',\n",
              " '714.29',\n",
              " '720.02',\n",
              " '725.75',\n",
              " '731.48',\n",
              " '737.2',\n",
              " '742.93',\n",
              " '748.66',\n",
              " '754.39',\n",
              " '760.12',\n",
              " '765.84',\n",
              " '771.57',\n",
              " '777.3',\n",
              " '783.03',\n",
              " '788.76',\n",
              " '794.48',\n",
              " '800.21',\n",
              " '805.94',\n",
              " '811.67',\n",
              " '817.4',\n",
              " '823.12',\n",
              " '828.85',\n",
              " '834.58',\n",
              " '840.31',\n",
              " '846.04',\n",
              " '851.76',\n",
              " '857.49',\n",
              " '863.22',\n",
              " '868.95',\n",
              " '874.68',\n",
              " '880.4',\n",
              " '886.13',\n",
              " '891.86',\n",
              " '897.59',\n",
              " 'k',\n",
              " 'chl',\n",
              " 'admix',\n",
              " 'dinoD',\n",
              " 'cnap',\n",
              " 'cdom',\n",
              " 'FQY',\n",
              " 'cy',\n",
              " 'fl_amp',\n",
              " 'pcS',\n",
              " 'pcL',\n",
              " 'aphy440',\n",
              " 'ag440',\n",
              " 'anap440',\n",
              " 'bphy440',\n",
              " 'bnap440',\n",
              " 'bbphy440',\n",
              " 'bbnap440',\n",
              " 'astarD440',\n",
              " 'astarCy440',\n",
              " 'apc620',\n",
              " 'astarpc',\n",
              " 'PC',\n",
              " 'pc_chla',\n",
              " 'aphy620',\n",
              " 'aphy675',\n",
              " 'cluster',\n",
              " 'SABI_Xu19',\n",
              " 'MCI_Xu19',\n",
              " 'CI_k15',\n",
              " 'SLH_K15']"
            ]
          },
          "metadata": {},
          "execution_count": 5
        }
      ]
    },
    {
      "cell_type": "code",
      "source": [
        ""
      ],
      "metadata": {
        "id": "jLBF0u5SP6zG"
      },
      "execution_count": null,
      "outputs": []
    }
  ]
}