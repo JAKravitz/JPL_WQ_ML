{
  "nbformat": 4,
  "nbformat_minor": 0,
  "metadata": {
    "colab": {
      "name": "TrainingData.ipynb",
      "provenance": [],
      "authorship_tag": "ABX9TyPWDR9EQu1Jna+JeukRCmoK",
      "include_colab_link": true
    },
    "kernelspec": {
      "name": "python3",
      "display_name": "Python 3"
    },
    "language_info": {
      "name": "python"
    }
  },
  "cells": [
    {
      "cell_type": "markdown",
      "metadata": {
        "id": "view-in-github",
        "colab_type": "text"
      },
      "source": [
        "<a href=\"https://colab.research.google.com/github/JAKravitz/JPL_WQ_ML/blob/main/TrainingData.ipynb\" target=\"_parent\"><img src=\"https://colab.research.google.com/assets/colab-badge.svg\" alt=\"Open In Colab\"/></a>"
      ]
    },
    {
      "cell_type": "code",
      "source": [
        "!git clone https://github.com/JAKravitz/JPL_WQ_ML.git"
      ],
      "metadata": {
        "colab": {
          "base_uri": "https://localhost:8080/"
        },
        "id": "903rJ74QSpvs",
        "outputId": "d32c83fa-34f0-4155-e105-4e359b4642bf"
      },
      "execution_count": 1,
      "outputs": [
        {
          "output_type": "stream",
          "name": "stdout",
          "text": [
            "Cloning into 'JPL_WQ_ML'...\n",
            "remote: Enumerating objects: 14, done.\u001b[K\n",
            "remote: Counting objects: 100% (14/14), done.\u001b[K\n",
            "remote: Compressing objects: 100% (13/13), done.\u001b[K\n",
            "remote: Total 14 (delta 4), reused 0 (delta 0), pack-reused 0\u001b[K\n",
            "Unpacking objects: 100% (14/14), done.\n"
          ]
        }
      ]
    },
    {
      "cell_type": "code",
      "source": [
        "import sys\n",
        "sys.path.insert(0,'/content/JPL_WQ_ML')"
      ],
      "metadata": {
        "id": "a72O94WlUMTn"
      },
      "execution_count": 2,
      "outputs": []
    },
    {
      "cell_type": "code",
      "source": [
        "import pickle\n",
        "import pandas as pd\n",
        "import numpy as np\n",
        "import warnings\n",
        "warnings.filterwarnings(\"ignore\")\n",
        "from sklearn.utils import shuffle\n",
        "from sklearn.model_selection import KFold\n",
        "from sklearn.model_selection import train_test_split\n",
        "from MLPregressor import MLPregressor\n",
        "import matplotlib.pyplot as plt"
      ],
      "metadata": {
        "id": "jLBF0u5SP6zG"
      },
      "execution_count": 10,
      "outputs": []
    },
    {
      "cell_type": "code",
      "execution_count": 4,
      "metadata": {
        "colab": {
          "base_uri": "https://localhost:8080/"
        },
        "id": "iCZ-fPsbOjCu",
        "outputId": "092a2609-e8cf-4504-a6ba-4bc69a68a858"
      },
      "outputs": [
        {
          "output_type": "stream",
          "name": "stdout",
          "text": [
            "Mounted at /content/drive\n"
          ]
        }
      ],
      "source": [
        "from google.colab import drive\n",
        "drive.mount('/content/drive')"
      ]
    },
    {
      "cell_type": "code",
      "source": [
        "with open('/content/drive/MyDrive/nasa_npp/RT/sensorIDX_rrs.p', 'rb') as fp:\n",
        "  sensorData = pickle.load(fp)"
      ],
      "metadata": {
        "id": "wzsqmOqJVyXr"
      },
      "execution_count": null,
      "outputs": []
    },
    {
      "cell_type": "code",
      "source": [
        "list(sensorData.keys())"
      ],
      "metadata": {
        "colab": {
          "base_uri": "https://localhost:8080/"
        },
        "id": "xQAEeGJXPByV",
        "outputId": "97e41f09-43a6-41fa-ca18-1879d99b5c6a"
      },
      "execution_count": 6,
      "outputs": [
        {
          "output_type": "execute_result",
          "data": {
            "text/plain": [
              "['s3', 's2', 'modis', 'meris', 'l8', 'hico']"
            ]
          },
          "metadata": {},
          "execution_count": 6
        }
      ]
    },
    {
      "cell_type": "code",
      "source": [
        "hicoData = sensorData['hico']\n",
        "list(hicoData.keys())"
      ],
      "metadata": {
        "id": "EvZBklVbPxyd"
      },
      "execution_count": null,
      "outputs": []
    },
    {
      "cell_type": "code",
      "source": [
        "target = ['chl','PC','Cnap']\n",
        "\n",
        "batch_info = {\n",
        "              'epochs':10,\n",
        "              'batch_size':32,\n",
        "              'lrate':.0001,\n",
        "              'split':.1,\n",
        "              'targets': target,\n",
        "              'cv':4,\n",
        "              'meta': None,\n",
        "              'Xpca': None, \n",
        "              }\n",
        "\n",
        "for key, value in batch_info.items():\n",
        "    value = None if value == 'None' else value\n",
        "    batch_info[key] = value"
      ],
      "metadata": {
        "id": "0DFzaH5qVLgf"
      },
      "execution_count": 8,
      "outputs": []
    },
    {
      "cell_type": "code",
      "source": [
        "model = MLPregressor(batch_info)\n",
        "X, y, y0 = model.getXY(hicoData)\n",
        "results = model.prep_results(y)\n",
        "X_train, X_test, y_train, y_test = train_test_split(X,y,test_size=batch_info['split'])\n",
        "kfold = KFold(n_splits=batch_info['cv'], shuffle=True)\n",
        "for train, test in kfold.split(X_train, y_train):\n",
        "    model.build()\n",
        "    X_tn, X_tt = X_train.iloc[train,:], X_train.iloc[test,:]\n",
        "    y_tn, y_tt = y_train.iloc[train,:], y_train.iloc[test,:] \n",
        "    history = model.fit(X_tn,y_tn)\n",
        "    y_ht = model.predict(X_tt)\n",
        "    results = model.evaluate(y_ht,y_tt,results,'cv') \n",
        "\n",
        "print ('\\n## FINAL MODEL ##\\n')\n",
        "history2 = model.fit(X_train,y_train)\n",
        "results['train_loss'].append(history2.history['loss'])\n",
        "results['val_loss'].append(history2.history['val_loss'])\n",
        "y_hat = model.predict(X_test)\n",
        "results = model.evaluate(y_hat,y_test,results,'final') \n",
        "results['batch_info'] = batch_info\n",
        "\n",
        "#%% plot\n",
        "fig, ax = plt.subplots()\n",
        "ax.scatter(results['agd']['final']['ytest'], results['agd']['final']['yhat'],s=.1,c='k')"
      ],
      "metadata": {
        "colab": {
          "base_uri": "https://localhost:8080/",
          "height": 240
        },
        "id": "-cAyyZb4Vkjl",
        "outputId": "58fe858f-d02c-4c76-ebd9-fc4a0f8ba0f4"
      },
      "execution_count": 9,
      "outputs": [
        {
          "output_type": "error",
          "ename": "NameError",
          "evalue": "ignored",
          "traceback": [
            "\u001b[0;31m---------------------------------------------------------------------------\u001b[0m",
            "\u001b[0;31mNameError\u001b[0m                                 Traceback (most recent call last)",
            "\u001b[0;32m<ipython-input-9-b8ab6a6879ba>\u001b[0m in \u001b[0;36m<module>\u001b[0;34m()\u001b[0m\n\u001b[1;32m      1\u001b[0m \u001b[0mmodel\u001b[0m \u001b[0;34m=\u001b[0m \u001b[0mMLPregressor\u001b[0m\u001b[0;34m(\u001b[0m\u001b[0mbatch_info\u001b[0m\u001b[0;34m)\u001b[0m\u001b[0;34m\u001b[0m\u001b[0;34m\u001b[0m\u001b[0m\n\u001b[0;32m----> 2\u001b[0;31m \u001b[0mX\u001b[0m\u001b[0;34m,\u001b[0m \u001b[0my\u001b[0m\u001b[0;34m,\u001b[0m \u001b[0my0\u001b[0m \u001b[0;34m=\u001b[0m \u001b[0mmodel\u001b[0m\u001b[0;34m.\u001b[0m\u001b[0mgetXY\u001b[0m\u001b[0;34m(\u001b[0m\u001b[0mrrsData\u001b[0m\u001b[0;34m)\u001b[0m\u001b[0;34m\u001b[0m\u001b[0;34m\u001b[0m\u001b[0m\n\u001b[0m\u001b[1;32m      3\u001b[0m \u001b[0mresults\u001b[0m \u001b[0;34m=\u001b[0m \u001b[0mmodel\u001b[0m\u001b[0;34m.\u001b[0m\u001b[0mprep_results\u001b[0m\u001b[0;34m(\u001b[0m\u001b[0my\u001b[0m\u001b[0;34m)\u001b[0m\u001b[0;34m\u001b[0m\u001b[0;34m\u001b[0m\u001b[0m\n\u001b[1;32m      4\u001b[0m \u001b[0mX_train\u001b[0m\u001b[0;34m,\u001b[0m \u001b[0mX_test\u001b[0m\u001b[0;34m,\u001b[0m \u001b[0my_train\u001b[0m\u001b[0;34m,\u001b[0m \u001b[0my_test\u001b[0m \u001b[0;34m=\u001b[0m \u001b[0mtrain_test_split\u001b[0m\u001b[0;34m(\u001b[0m\u001b[0mX\u001b[0m\u001b[0;34m,\u001b[0m\u001b[0my\u001b[0m\u001b[0;34m,\u001b[0m\u001b[0mtest_size\u001b[0m\u001b[0;34m=\u001b[0m\u001b[0mbatch_info\u001b[0m\u001b[0;34m[\u001b[0m\u001b[0;34m'split'\u001b[0m\u001b[0;34m]\u001b[0m\u001b[0;34m)\u001b[0m\u001b[0;34m\u001b[0m\u001b[0;34m\u001b[0m\u001b[0m\n\u001b[1;32m      5\u001b[0m \u001b[0mkfold\u001b[0m \u001b[0;34m=\u001b[0m \u001b[0mKFold\u001b[0m\u001b[0;34m(\u001b[0m\u001b[0mn_splits\u001b[0m\u001b[0;34m=\u001b[0m\u001b[0mbatch_info\u001b[0m\u001b[0;34m[\u001b[0m\u001b[0;34m'cv'\u001b[0m\u001b[0;34m]\u001b[0m\u001b[0;34m,\u001b[0m \u001b[0mshuffle\u001b[0m\u001b[0;34m=\u001b[0m\u001b[0;32mTrue\u001b[0m\u001b[0;34m)\u001b[0m\u001b[0;34m\u001b[0m\u001b[0;34m\u001b[0m\u001b[0m\n",
            "\u001b[0;31mNameError\u001b[0m: name 'rrsData' is not defined"
          ]
        }
      ]
    }
  ]
}