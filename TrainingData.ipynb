{
  "nbformat": 4,
  "nbformat_minor": 0,
  "metadata": {
    "colab": {
      "name": "TrainingData.ipynb",
      "provenance": [],
      "authorship_tag": "ABX9TyPDJDEPcYp2Lik5HvugBd2S",
      "include_colab_link": true
    },
    "kernelspec": {
      "name": "python3",
      "display_name": "Python 3"
    },
    "language_info": {
      "name": "python"
    }
  },
  "cells": [
    {
      "cell_type": "markdown",
      "metadata": {
        "id": "view-in-github",
        "colab_type": "text"
      },
      "source": [
        "<a href=\"https://colab.research.google.com/github/JAKravitz/JPL_WQ_ML/blob/main/TrainingData.ipynb\" target=\"_parent\"><img src=\"https://colab.research.google.com/assets/colab-badge.svg\" alt=\"Open In Colab\"/></a>"
      ]
    },
    {
      "cell_type": "markdown",
      "source": [
        "# Connect to gitHub repo and add to python path\n"
      ],
      "metadata": {
        "id": "sLv7F_1UkBRD"
      }
    },
    {
      "cell_type": "code",
      "source": [
        "!git clone https://github.com/JAKravitz/JPL_WQ_ML.git\n",
        "\n",
        "import sys\n",
        "sys.path.insert(0,'/content/JPL_WQ_ML')"
      ],
      "metadata": {
        "colab": {
          "base_uri": "https://localhost:8080/"
        },
        "id": "903rJ74QSpvs",
        "outputId": "22ca6cad-3e01-4d93-9b1a-2b39be4e1c99"
      },
      "execution_count": 1,
      "outputs": [
        {
          "output_type": "stream",
          "name": "stdout",
          "text": [
            "Cloning into 'JPL_WQ_ML'...\n",
            "remote: Enumerating objects: 31, done.\u001b[K\n",
            "remote: Counting objects: 100% (31/31), done.\u001b[K\n",
            "remote: Compressing objects: 100% (30/30), done.\u001b[K\n",
            "remote: Total 31 (delta 15), reused 0 (delta 0), pack-reused 0\u001b[K\n",
            "Unpacking objects: 100% (31/31), done.\n"
          ]
        }
      ]
    },
    {
      "cell_type": "markdown",
      "source": [
        "# Import modules"
      ],
      "metadata": {
        "id": "qJrm02W-kT93"
      }
    },
    {
      "cell_type": "code",
      "source": [
        "import pickle\n",
        "import pandas as pd\n",
        "import numpy as np\n",
        "import warnings\n",
        "warnings.filterwarnings(\"ignore\")\n",
        "from sklearn.utils import shuffle\n",
        "from sklearn.model_selection import KFold\n",
        "from sklearn.model_selection import train_test_split\n",
        "from MLP_retrieval import MLPregressor\n",
        "import matplotlib.pyplot as plt"
      ],
      "metadata": {
        "id": "jLBF0u5SP6zG"
      },
      "execution_count": 2,
      "outputs": []
    },
    {
      "cell_type": "markdown",
      "source": [
        "# Connect to google drive"
      ],
      "metadata": {
        "id": "PHQw9oBYkaOV"
      }
    },
    {
      "cell_type": "code",
      "execution_count": 3,
      "metadata": {
        "colab": {
          "base_uri": "https://localhost:8080/"
        },
        "id": "iCZ-fPsbOjCu",
        "outputId": "87b37892-df5f-4f0a-c205-a242c3a150de"
      },
      "outputs": [
        {
          "output_type": "stream",
          "name": "stdout",
          "text": [
            "Mounted at /content/drive\n"
          ]
        }
      ],
      "source": [
        "from google.colab import drive\n",
        "drive.mount('/content/drive')"
      ]
    },
    {
      "cell_type": "markdown",
      "source": [
        "# Data\n",
        "\n",
        "Data currently stored as nested dictionaries and pandas dataframes in python a python pickle file. This post-processed data is is already resolved to different sensor resolutions which make up the 6 dataframes in the pickle file. Sensors are in number of increasing resolution: Landsat OLI, Sentinel-2 MSI, MODIS, MERIS, Sentinel-3 OLCI, HICO.\n",
        "\n",
        "Each sensor includes a dataframe with the remote sensing reflectance (Rrs) for each band, as well as a number of paired biogeochemical info and some inherent optical properties (IOPs - absorbing and scattering in units m^-1) at 440 nm. (Full hyperspectral IOPs are in a separate dataset which I can share if we get to that point.)"
      ],
      "metadata": {
        "id": "FB8bdDjakghI"
      }
    },
    {
      "cell_type": "code",
      "source": [
        "\n",
        "# Retrieve data\n",
        "with open('/content/drive/MyDrive/nasa_npp/RT/sensorIDX_rrs.p', 'rb') as fp:\n",
        "  sensorData = pickle.load(fp)\n",
        "\n",
        "# inspect datasets\n",
        "print(f'Sensors: {sensorData.keys()}\\n')\n",
        "\n",
        "# inspect sensor data\n",
        "landsat8 = sensorData['l8']\n",
        "l8Bands = landsat8.filter(regex='^[0-9]')\n",
        "l8Targets = landsat8.filter(regex='^[a-zA-Z]')\n",
        "\n",
        "print('Landsat 8 OLI synthetic reflectance data:')\n",
        "l8Bands.head()"
      ],
      "metadata": {
        "colab": {
          "base_uri": "https://localhost:8080/",
          "height": 258
        },
        "id": "wzsqmOqJVyXr",
        "outputId": "1c9e2f9a-4b77-404f-b315-8bb4753f1c46"
      },
      "execution_count": 4,
      "outputs": [
        {
          "output_type": "stream",
          "name": "stdout",
          "text": [
            "Sensors: dict_keys(['s3', 's2', 'modis', 'meris', 'l8', 'hico'])\n",
            "\n",
            "Landsat 8 OLI synthetic reflectance data:\n"
          ]
        },
        {
          "output_type": "execute_result",
          "data": {
            "text/plain": [
              "        443       482       561       665       865\n",
              "0  0.002678  0.003951  0.006962  0.007311  0.000784\n",
              "1  0.001406  0.002081  0.003643  0.001926  0.000121\n",
              "2  0.002194  0.004156  0.008614  0.002771  0.000142\n",
              "3  0.004412  0.007036  0.012674  0.005947  0.000369\n",
              "4  0.000229  0.000473  0.001568  0.001353  0.000082"
            ],
            "text/html": [
              "\n",
              "  <div id=\"df-8afd95a6-7588-402f-8656-60290618a8c0\">\n",
              "    <div class=\"colab-df-container\">\n",
              "      <div>\n",
              "<style scoped>\n",
              "    .dataframe tbody tr th:only-of-type {\n",
              "        vertical-align: middle;\n",
              "    }\n",
              "\n",
              "    .dataframe tbody tr th {\n",
              "        vertical-align: top;\n",
              "    }\n",
              "\n",
              "    .dataframe thead th {\n",
              "        text-align: right;\n",
              "    }\n",
              "</style>\n",
              "<table border=\"1\" class=\"dataframe\">\n",
              "  <thead>\n",
              "    <tr style=\"text-align: right;\">\n",
              "      <th></th>\n",
              "      <th>443</th>\n",
              "      <th>482</th>\n",
              "      <th>561</th>\n",
              "      <th>665</th>\n",
              "      <th>865</th>\n",
              "    </tr>\n",
              "  </thead>\n",
              "  <tbody>\n",
              "    <tr>\n",
              "      <th>0</th>\n",
              "      <td>0.002678</td>\n",
              "      <td>0.003951</td>\n",
              "      <td>0.006962</td>\n",
              "      <td>0.007311</td>\n",
              "      <td>0.000784</td>\n",
              "    </tr>\n",
              "    <tr>\n",
              "      <th>1</th>\n",
              "      <td>0.001406</td>\n",
              "      <td>0.002081</td>\n",
              "      <td>0.003643</td>\n",
              "      <td>0.001926</td>\n",
              "      <td>0.000121</td>\n",
              "    </tr>\n",
              "    <tr>\n",
              "      <th>2</th>\n",
              "      <td>0.002194</td>\n",
              "      <td>0.004156</td>\n",
              "      <td>0.008614</td>\n",
              "      <td>0.002771</td>\n",
              "      <td>0.000142</td>\n",
              "    </tr>\n",
              "    <tr>\n",
              "      <th>3</th>\n",
              "      <td>0.004412</td>\n",
              "      <td>0.007036</td>\n",
              "      <td>0.012674</td>\n",
              "      <td>0.005947</td>\n",
              "      <td>0.000369</td>\n",
              "    </tr>\n",
              "    <tr>\n",
              "      <th>4</th>\n",
              "      <td>0.000229</td>\n",
              "      <td>0.000473</td>\n",
              "      <td>0.001568</td>\n",
              "      <td>0.001353</td>\n",
              "      <td>0.000082</td>\n",
              "    </tr>\n",
              "  </tbody>\n",
              "</table>\n",
              "</div>\n",
              "      <button class=\"colab-df-convert\" onclick=\"convertToInteractive('df-8afd95a6-7588-402f-8656-60290618a8c0')\"\n",
              "              title=\"Convert this dataframe to an interactive table.\"\n",
              "              style=\"display:none;\">\n",
              "        \n",
              "  <svg xmlns=\"http://www.w3.org/2000/svg\" height=\"24px\"viewBox=\"0 0 24 24\"\n",
              "       width=\"24px\">\n",
              "    <path d=\"M0 0h24v24H0V0z\" fill=\"none\"/>\n",
              "    <path d=\"M18.56 5.44l.94 2.06.94-2.06 2.06-.94-2.06-.94-.94-2.06-.94 2.06-2.06.94zm-11 1L8.5 8.5l.94-2.06 2.06-.94-2.06-.94L8.5 2.5l-.94 2.06-2.06.94zm10 10l.94 2.06.94-2.06 2.06-.94-2.06-.94-.94-2.06-.94 2.06-2.06.94z\"/><path d=\"M17.41 7.96l-1.37-1.37c-.4-.4-.92-.59-1.43-.59-.52 0-1.04.2-1.43.59L10.3 9.45l-7.72 7.72c-.78.78-.78 2.05 0 2.83L4 21.41c.39.39.9.59 1.41.59.51 0 1.02-.2 1.41-.59l7.78-7.78 2.81-2.81c.8-.78.8-2.07 0-2.86zM5.41 20L4 18.59l7.72-7.72 1.47 1.35L5.41 20z\"/>\n",
              "  </svg>\n",
              "      </button>\n",
              "      \n",
              "  <style>\n",
              "    .colab-df-container {\n",
              "      display:flex;\n",
              "      flex-wrap:wrap;\n",
              "      gap: 12px;\n",
              "    }\n",
              "\n",
              "    .colab-df-convert {\n",
              "      background-color: #E8F0FE;\n",
              "      border: none;\n",
              "      border-radius: 50%;\n",
              "      cursor: pointer;\n",
              "      display: none;\n",
              "      fill: #1967D2;\n",
              "      height: 32px;\n",
              "      padding: 0 0 0 0;\n",
              "      width: 32px;\n",
              "    }\n",
              "\n",
              "    .colab-df-convert:hover {\n",
              "      background-color: #E2EBFA;\n",
              "      box-shadow: 0px 1px 2px rgba(60, 64, 67, 0.3), 0px 1px 3px 1px rgba(60, 64, 67, 0.15);\n",
              "      fill: #174EA6;\n",
              "    }\n",
              "\n",
              "    [theme=dark] .colab-df-convert {\n",
              "      background-color: #3B4455;\n",
              "      fill: #D2E3FC;\n",
              "    }\n",
              "\n",
              "    [theme=dark] .colab-df-convert:hover {\n",
              "      background-color: #434B5C;\n",
              "      box-shadow: 0px 1px 3px 1px rgba(0, 0, 0, 0.15);\n",
              "      filter: drop-shadow(0px 1px 2px rgba(0, 0, 0, 0.3));\n",
              "      fill: #FFFFFF;\n",
              "    }\n",
              "  </style>\n",
              "\n",
              "      <script>\n",
              "        const buttonEl =\n",
              "          document.querySelector('#df-8afd95a6-7588-402f-8656-60290618a8c0 button.colab-df-convert');\n",
              "        buttonEl.style.display =\n",
              "          google.colab.kernel.accessAllowed ? 'block' : 'none';\n",
              "\n",
              "        async function convertToInteractive(key) {\n",
              "          const element = document.querySelector('#df-8afd95a6-7588-402f-8656-60290618a8c0');\n",
              "          const dataTable =\n",
              "            await google.colab.kernel.invokeFunction('convertToInteractive',\n",
              "                                                     [key], {});\n",
              "          if (!dataTable) return;\n",
              "\n",
              "          const docLinkHtml = 'Like what you see? Visit the ' +\n",
              "            '<a target=\"_blank\" href=https://colab.research.google.com/notebooks/data_table.ipynb>data table notebook</a>'\n",
              "            + ' to learn more about interactive tables.';\n",
              "          element.innerHTML = '';\n",
              "          dataTable['output_type'] = 'display_data';\n",
              "          await google.colab.output.renderOutput(dataTable, element);\n",
              "          const docLink = document.createElement('div');\n",
              "          docLink.innerHTML = docLinkHtml;\n",
              "          element.appendChild(docLink);\n",
              "        }\n",
              "      </script>\n",
              "    </div>\n",
              "  </div>\n",
              "  "
            ]
          },
          "metadata": {},
          "execution_count": 4
        }
      ]
    },
    {
      "cell_type": "markdown",
      "source": [
        "# Outputs\n",
        "\n",
        "The other columns are a mix of potential target outputs and some feature interaction which are usually in the form of some band ratios and band differences. Targets of interest include the following below. This should be enough to get us started. \n",
        "<br>\n",
        "<br>**chl** = concentration of pigment chl-a (ubiquitous in all phytoplankton, main   biogeochemical indication of phyto biomass, mg/m^3) \n",
        "<br>**PC** = concentration of pigment phycocyanin (Only present in cyanobacteria, mg/m^3)\n",
        "<br>**admix** = Fraction of cyanobacteria in assemblage (0-1)\n",
        "<br>**dinoD** = Average diameter of the non-cyanobacteria fraction of the phyto assemblage (micrometers)\n",
        "<br>**cnap** = Concentration of non-algal particles (this is minerals and detritus combined)\n",
        "<br>**FQY** = Fluorescence quantum yield (probably not relevant right now, but could be interesting to look at if there is time\n",
        "<br>**cy** = species of cyanobacteria used in simulation\n",
        "<br>**fl_amp** = fluorescence amplitude (amplitude of the solar induced chlorophyll-a fluorescence signal, again could be interesting if time allows)\n",
        "<br>**aphy440, ag440, anap440** = absorption due to phytoplankton, CDOM, and non-algal particles, respectfully, at 440 nm (sum of these equals total absorption (other than water), m^-1)\n",
        "<br>**bbphy440, bbnap440** = backscattering due to phytoplankton and non-algal particles (CDOM is dissolved and thus does not scatter light, sum is total backscatter, m^-1)\n",
        "<br>**apc620** = absorption due to pigment phycocyanin at 620nm (cyanos have a unique absorption feature centered at 620nm)\n",
        "<br>**aphy620** = absorption due to total phytolankton at 620nm \n",
        "<br>**aphy675** = absorption due to total phytolankton at 675nm (chl-a has a unique absorption feature centered at 675nm)\n",
        "<br>**pc_chla** = phycocyanin to chl-a ratio (indication of cyano dominance)\n",
        "<br>**cluster** = Cluster the particular reflecance spectrum belongs to (1-13) based on a Kmeans clustering analysis (see manuscript for more details)\n",
        "<br>\n",
        "<br>**Must haves**:\n",
        "<br> - retrieval of pigment concentrations: chl-a, PC \n",
        "<br> - retrieval of non algal particle concentration: Cnap\n",
        "<br>**Nice to haves**:\n",
        "<br>- retrieval of component absorption and backscattering @ 440nm\n",
        "<br>- retrieval of cluster\n",
        "<br>- retrieval of admix parameter (cyano fraction - but not much field validation for this) \n",
        "<br>**Super nice to have**:\n",
        "<br>- retireval of hyperspectral absorption and backscattering (data located in separate dataset)\n"
      ],
      "metadata": {
        "id": "bgFKTiAwqSKN"
      }
    },
    {
      "cell_type": "code",
      "source": [
        "print('Paired biogeophysical and optical data:')\n",
        "l8Targets.head()"
      ],
      "metadata": {
        "colab": {
          "base_uri": "https://localhost:8080/",
          "height": 317
        },
        "id": "xQAEeGJXPByV",
        "outputId": "168fe3b6-5a99-469d-dcb3-1a4ff626db1d"
      },
      "execution_count": 5,
      "outputs": [
        {
          "output_type": "stream",
          "name": "stdout",
          "text": [
            "Paired biogeophysical and optical data:\n"
          ]
        },
        {
          "output_type": "execute_result",
          "data": {
            "text/plain": [
              "       iHy  k   chl  admix  dinoD   cnap   cdom    FQY   cy    fl_amp  ...  \\\n",
              "0  42390.0  0  0.15    0.1    5.0  9.333  1.035  0.005  aph  0.001106  ...   \n",
              "1  18723.0  1  0.16    0.0    6.0  1.303  0.746  0.010  nod  0.004361  ...   \n",
              "2  39059.0  2  0.19    0.0   17.0  1.487  0.822  0.010  aer  0.004299  ...   \n",
              "3  14425.0  3  0.21    0.0    6.0  2.754  0.506  0.010  aph  0.005239  ...   \n",
              "4  22380.0  4  0.21    0.4    9.0  1.637  4.451  0.005  ana  0.001954  ...   \n",
              "\n",
              "         b1        b2        b3        b4     b4/b3     b4/b2     b4/b1  \\\n",
              "0  0.002678  0.003951  0.006962  0.007311  1.050139  1.850644  2.729868   \n",
              "1  0.001406  0.002081  0.003643  0.001926  0.528708  0.925568  1.369481   \n",
              "2  0.002194  0.004156  0.008614  0.002771  0.321661  0.666698  1.262735   \n",
              "3  0.004412  0.007036  0.012674  0.005947  0.469229  0.845218  1.347973   \n",
              "4  0.000229  0.000473  0.001568  0.001353  0.862963  2.861645  5.900041   \n",
              "\n",
              "      b3/b2     b3/b1     b2/b1  \n",
              "0  1.762286  2.599531  1.475091  \n",
              "1  1.750622  2.590240  1.479611  \n",
              "2  2.072673  3.925670  1.894014  \n",
              "3  1.801289  2.872739  1.594824  \n",
              "4  3.316068  6.836954  2.061765  \n",
              "\n",
              "[5 rows x 38 columns]"
            ],
            "text/html": [
              "\n",
              "  <div id=\"df-ec515095-b0f1-4b1e-9784-8528792b737f\">\n",
              "    <div class=\"colab-df-container\">\n",
              "      <div>\n",
              "<style scoped>\n",
              "    .dataframe tbody tr th:only-of-type {\n",
              "        vertical-align: middle;\n",
              "    }\n",
              "\n",
              "    .dataframe tbody tr th {\n",
              "        vertical-align: top;\n",
              "    }\n",
              "\n",
              "    .dataframe thead th {\n",
              "        text-align: right;\n",
              "    }\n",
              "</style>\n",
              "<table border=\"1\" class=\"dataframe\">\n",
              "  <thead>\n",
              "    <tr style=\"text-align: right;\">\n",
              "      <th></th>\n",
              "      <th>iHy</th>\n",
              "      <th>k</th>\n",
              "      <th>chl</th>\n",
              "      <th>admix</th>\n",
              "      <th>dinoD</th>\n",
              "      <th>cnap</th>\n",
              "      <th>cdom</th>\n",
              "      <th>FQY</th>\n",
              "      <th>cy</th>\n",
              "      <th>fl_amp</th>\n",
              "      <th>...</th>\n",
              "      <th>b1</th>\n",
              "      <th>b2</th>\n",
              "      <th>b3</th>\n",
              "      <th>b4</th>\n",
              "      <th>b4/b3</th>\n",
              "      <th>b4/b2</th>\n",
              "      <th>b4/b1</th>\n",
              "      <th>b3/b2</th>\n",
              "      <th>b3/b1</th>\n",
              "      <th>b2/b1</th>\n",
              "    </tr>\n",
              "  </thead>\n",
              "  <tbody>\n",
              "    <tr>\n",
              "      <th>0</th>\n",
              "      <td>42390.0</td>\n",
              "      <td>0</td>\n",
              "      <td>0.15</td>\n",
              "      <td>0.1</td>\n",
              "      <td>5.0</td>\n",
              "      <td>9.333</td>\n",
              "      <td>1.035</td>\n",
              "      <td>0.005</td>\n",
              "      <td>aph</td>\n",
              "      <td>0.001106</td>\n",
              "      <td>...</td>\n",
              "      <td>0.002678</td>\n",
              "      <td>0.003951</td>\n",
              "      <td>0.006962</td>\n",
              "      <td>0.007311</td>\n",
              "      <td>1.050139</td>\n",
              "      <td>1.850644</td>\n",
              "      <td>2.729868</td>\n",
              "      <td>1.762286</td>\n",
              "      <td>2.599531</td>\n",
              "      <td>1.475091</td>\n",
              "    </tr>\n",
              "    <tr>\n",
              "      <th>1</th>\n",
              "      <td>18723.0</td>\n",
              "      <td>1</td>\n",
              "      <td>0.16</td>\n",
              "      <td>0.0</td>\n",
              "      <td>6.0</td>\n",
              "      <td>1.303</td>\n",
              "      <td>0.746</td>\n",
              "      <td>0.010</td>\n",
              "      <td>nod</td>\n",
              "      <td>0.004361</td>\n",
              "      <td>...</td>\n",
              "      <td>0.001406</td>\n",
              "      <td>0.002081</td>\n",
              "      <td>0.003643</td>\n",
              "      <td>0.001926</td>\n",
              "      <td>0.528708</td>\n",
              "      <td>0.925568</td>\n",
              "      <td>1.369481</td>\n",
              "      <td>1.750622</td>\n",
              "      <td>2.590240</td>\n",
              "      <td>1.479611</td>\n",
              "    </tr>\n",
              "    <tr>\n",
              "      <th>2</th>\n",
              "      <td>39059.0</td>\n",
              "      <td>2</td>\n",
              "      <td>0.19</td>\n",
              "      <td>0.0</td>\n",
              "      <td>17.0</td>\n",
              "      <td>1.487</td>\n",
              "      <td>0.822</td>\n",
              "      <td>0.010</td>\n",
              "      <td>aer</td>\n",
              "      <td>0.004299</td>\n",
              "      <td>...</td>\n",
              "      <td>0.002194</td>\n",
              "      <td>0.004156</td>\n",
              "      <td>0.008614</td>\n",
              "      <td>0.002771</td>\n",
              "      <td>0.321661</td>\n",
              "      <td>0.666698</td>\n",
              "      <td>1.262735</td>\n",
              "      <td>2.072673</td>\n",
              "      <td>3.925670</td>\n",
              "      <td>1.894014</td>\n",
              "    </tr>\n",
              "    <tr>\n",
              "      <th>3</th>\n",
              "      <td>14425.0</td>\n",
              "      <td>3</td>\n",
              "      <td>0.21</td>\n",
              "      <td>0.0</td>\n",
              "      <td>6.0</td>\n",
              "      <td>2.754</td>\n",
              "      <td>0.506</td>\n",
              "      <td>0.010</td>\n",
              "      <td>aph</td>\n",
              "      <td>0.005239</td>\n",
              "      <td>...</td>\n",
              "      <td>0.004412</td>\n",
              "      <td>0.007036</td>\n",
              "      <td>0.012674</td>\n",
              "      <td>0.005947</td>\n",
              "      <td>0.469229</td>\n",
              "      <td>0.845218</td>\n",
              "      <td>1.347973</td>\n",
              "      <td>1.801289</td>\n",
              "      <td>2.872739</td>\n",
              "      <td>1.594824</td>\n",
              "    </tr>\n",
              "    <tr>\n",
              "      <th>4</th>\n",
              "      <td>22380.0</td>\n",
              "      <td>4</td>\n",
              "      <td>0.21</td>\n",
              "      <td>0.4</td>\n",
              "      <td>9.0</td>\n",
              "      <td>1.637</td>\n",
              "      <td>4.451</td>\n",
              "      <td>0.005</td>\n",
              "      <td>ana</td>\n",
              "      <td>0.001954</td>\n",
              "      <td>...</td>\n",
              "      <td>0.000229</td>\n",
              "      <td>0.000473</td>\n",
              "      <td>0.001568</td>\n",
              "      <td>0.001353</td>\n",
              "      <td>0.862963</td>\n",
              "      <td>2.861645</td>\n",
              "      <td>5.900041</td>\n",
              "      <td>3.316068</td>\n",
              "      <td>6.836954</td>\n",
              "      <td>2.061765</td>\n",
              "    </tr>\n",
              "  </tbody>\n",
              "</table>\n",
              "<p>5 rows × 38 columns</p>\n",
              "</div>\n",
              "      <button class=\"colab-df-convert\" onclick=\"convertToInteractive('df-ec515095-b0f1-4b1e-9784-8528792b737f')\"\n",
              "              title=\"Convert this dataframe to an interactive table.\"\n",
              "              style=\"display:none;\">\n",
              "        \n",
              "  <svg xmlns=\"http://www.w3.org/2000/svg\" height=\"24px\"viewBox=\"0 0 24 24\"\n",
              "       width=\"24px\">\n",
              "    <path d=\"M0 0h24v24H0V0z\" fill=\"none\"/>\n",
              "    <path d=\"M18.56 5.44l.94 2.06.94-2.06 2.06-.94-2.06-.94-.94-2.06-.94 2.06-2.06.94zm-11 1L8.5 8.5l.94-2.06 2.06-.94-2.06-.94L8.5 2.5l-.94 2.06-2.06.94zm10 10l.94 2.06.94-2.06 2.06-.94-2.06-.94-.94-2.06-.94 2.06-2.06.94z\"/><path d=\"M17.41 7.96l-1.37-1.37c-.4-.4-.92-.59-1.43-.59-.52 0-1.04.2-1.43.59L10.3 9.45l-7.72 7.72c-.78.78-.78 2.05 0 2.83L4 21.41c.39.39.9.59 1.41.59.51 0 1.02-.2 1.41-.59l7.78-7.78 2.81-2.81c.8-.78.8-2.07 0-2.86zM5.41 20L4 18.59l7.72-7.72 1.47 1.35L5.41 20z\"/>\n",
              "  </svg>\n",
              "      </button>\n",
              "      \n",
              "  <style>\n",
              "    .colab-df-container {\n",
              "      display:flex;\n",
              "      flex-wrap:wrap;\n",
              "      gap: 12px;\n",
              "    }\n",
              "\n",
              "    .colab-df-convert {\n",
              "      background-color: #E8F0FE;\n",
              "      border: none;\n",
              "      border-radius: 50%;\n",
              "      cursor: pointer;\n",
              "      display: none;\n",
              "      fill: #1967D2;\n",
              "      height: 32px;\n",
              "      padding: 0 0 0 0;\n",
              "      width: 32px;\n",
              "    }\n",
              "\n",
              "    .colab-df-convert:hover {\n",
              "      background-color: #E2EBFA;\n",
              "      box-shadow: 0px 1px 2px rgba(60, 64, 67, 0.3), 0px 1px 3px 1px rgba(60, 64, 67, 0.15);\n",
              "      fill: #174EA6;\n",
              "    }\n",
              "\n",
              "    [theme=dark] .colab-df-convert {\n",
              "      background-color: #3B4455;\n",
              "      fill: #D2E3FC;\n",
              "    }\n",
              "\n",
              "    [theme=dark] .colab-df-convert:hover {\n",
              "      background-color: #434B5C;\n",
              "      box-shadow: 0px 1px 3px 1px rgba(0, 0, 0, 0.15);\n",
              "      filter: drop-shadow(0px 1px 2px rgba(0, 0, 0, 0.3));\n",
              "      fill: #FFFFFF;\n",
              "    }\n",
              "  </style>\n",
              "\n",
              "      <script>\n",
              "        const buttonEl =\n",
              "          document.querySelector('#df-ec515095-b0f1-4b1e-9784-8528792b737f button.colab-df-convert');\n",
              "        buttonEl.style.display =\n",
              "          google.colab.kernel.accessAllowed ? 'block' : 'none';\n",
              "\n",
              "        async function convertToInteractive(key) {\n",
              "          const element = document.querySelector('#df-ec515095-b0f1-4b1e-9784-8528792b737f');\n",
              "          const dataTable =\n",
              "            await google.colab.kernel.invokeFunction('convertToInteractive',\n",
              "                                                     [key], {});\n",
              "          if (!dataTable) return;\n",
              "\n",
              "          const docLinkHtml = 'Like what you see? Visit the ' +\n",
              "            '<a target=\"_blank\" href=https://colab.research.google.com/notebooks/data_table.ipynb>data table notebook</a>'\n",
              "            + ' to learn more about interactive tables.';\n",
              "          element.innerHTML = '';\n",
              "          dataTable['output_type'] = 'display_data';\n",
              "          await google.colab.output.renderOutput(dataTable, element);\n",
              "          const docLink = document.createElement('div');\n",
              "          docLink.innerHTML = docLinkHtml;\n",
              "          element.appendChild(docLink);\n",
              "        }\n",
              "      </script>\n",
              "    </div>\n",
              "  </div>\n",
              "  "
            ]
          },
          "metadata": {},
          "execution_count": 5
        }
      ]
    },
    {
      "cell_type": "markdown",
      "source": [
        "# Basic artifical neural network application to the data"
      ],
      "metadata": {
        "id": "ehjOKF5OytGB"
      }
    },
    {
      "cell_type": "code",
      "source": [
        "# targets for retrieval - can be single or code is set up for multi-output\n",
        "target = ['chl','PC','cnap','cluster']\n",
        "\n",
        "# Information for the training\n",
        "batch_info = {'sensor': 'hico',  # which sensor you will train on\n",
        "              'epochs': 10,      # number of epochs\n",
        "              'batch_size': 32,  # batch size\n",
        "              'lrate': .0001,    # learning rate\n",
        "              'split': .1,       # split for train/test\n",
        "              'targets': target, # targets\n",
        "              'cv': 3,           # number of how many cross-validations \n",
        "              'meta': None,      # this is for when using top-of-atmosphere data, irrelevant\n",
        "              'Xpca': 10,        # number of principal components to for dimensionality reduction of input bands\n",
        "              }\n",
        "\n",
        "for key, value in batch_info.items():\n",
        "    value = None if value == 'None' else value\n",
        "    batch_info[key] = value"
      ],
      "metadata": {
        "id": "0DFzaH5qVLgf"
      },
      "execution_count": 6,
      "outputs": []
    },
    {
      "cell_type": "code",
      "source": [
        "# instantiate the ANN class\n",
        "model = MLPregressor(batch_info)\n",
        "\n",
        "# get the X (inputs) and Y (outputs) data\n",
        "# y = log transformed and standard scaled \n",
        "# y0 = raw y values\n",
        "X, y, y0 = model.getXY(sensorData)\n",
        "\n",
        "# prep the results dictionary for the various evaluation statistics  \n",
        "results = model.prep_results(y)\n",
        "\n",
        "# split for train/test\n",
        "# train data is further split for cross validation information (error bars for statistics)\n",
        "X_train, X_test, y_train, y_test = train_test_split(X,y,test_size=batch_info['split'])\n",
        "kfold = KFold(n_splits=batch_info['cv'], shuffle=True)\n",
        "\n",
        "# run model through cross validation and output results to dictionary\n",
        "count = 0\n",
        "for train, test in kfold.split(X_train, y_train):\n",
        "    print ('\\n## FOLD = {}... ##\\n'.format(count))\n",
        "    model.build()\n",
        "    X_tn, X_tt = X_train.iloc[train,:], X_train.iloc[test,:]\n",
        "    y_tn, y_tt = y_train.iloc[train,:], y_train.iloc[test,:] \n",
        "    history = model.fit(X_tn,y_tn)\n",
        "    y_ht = model.predict(X_tt)\n",
        "    results = model.evaluate(y_ht,y_tt,results,'cv') \n",
        "    count = count+1\n",
        "\n",
        "# Run and test on unseen data and output results\n",
        "print ('\\n## FINAL MODEL ##\\n')\n",
        "history2 = model.fit(X_train,y_train)\n",
        "results['train_loss'].append(history2.history['loss'])\n",
        "results['val_loss'].append(history2.history['val_loss'])\n",
        "y_hat = model.predict(X_test)\n",
        "results = model.evaluate(y_hat,y_test,results,'final') \n",
        "results = model.owt_evaluate(y_hat,y_test,results)\n",
        "results['batch_info'] = batch_info\n"
      ],
      "metadata": {
        "colab": {
          "base_uri": "https://localhost:8080/"
        },
        "id": "-cAyyZb4Vkjl",
        "outputId": "6ee52d10-c13a-4cb3-f31f-49fecf90925b"
      },
      "execution_count": 7,
      "outputs": [
        {
          "output_type": "stream",
          "name": "stdout",
          "text": [
            "\n",
            "## FOLD = 0... ##\n",
            "\n",
            "Model: \"sequential\"\n",
            "_________________________________________________________________\n",
            " Layer (type)                Output Shape              Param #   \n",
            "=================================================================\n",
            " dense (Dense)               (None, 128)               1408      \n",
            "                                                                 \n",
            " re_lu (ReLU)                (None, 128)               0         \n",
            "                                                                 \n",
            " dropout (Dropout)           (None, 128)               0         \n",
            "                                                                 \n",
            " dense_1 (Dense)             (None, 64)                8256      \n",
            "                                                                 \n",
            " re_lu_1 (ReLU)              (None, 64)                0         \n",
            "                                                                 \n",
            " dropout_1 (Dropout)         (None, 64)                0         \n",
            "                                                                 \n",
            " dense_2 (Dense)             (None, 32)                2080      \n",
            "                                                                 \n",
            " re_lu_2 (ReLU)              (None, 32)                0         \n",
            "                                                                 \n",
            " dropout_2 (Dropout)         (None, 32)                0         \n",
            "                                                                 \n",
            " dense_3 (Dense)             (None, 4)                 132       \n",
            "                                                                 \n",
            "=================================================================\n",
            "Total params: 11,876\n",
            "Trainable params: 11,876\n",
            "Non-trainable params: 0\n",
            "_________________________________________________________________\n",
            "None\n",
            "Epoch 1/10\n",
            "1116/1116 [==============================] - 4s 3ms/step - loss: 0.6322 - val_loss: 0.4711\n",
            "Epoch 2/10\n",
            "1116/1116 [==============================] - 2s 2ms/step - loss: 0.5110 - val_loss: 0.4367\n",
            "Epoch 3/10\n",
            "1116/1116 [==============================] - 2s 2ms/step - loss: 0.4892 - val_loss: 0.4206\n",
            "Epoch 4/10\n",
            "1116/1116 [==============================] - 2s 2ms/step - loss: 0.4742 - val_loss: 0.4043\n",
            "Epoch 5/10\n",
            "1116/1116 [==============================] - 2s 2ms/step - loss: 0.4627 - val_loss: 0.3930\n",
            "Epoch 6/10\n",
            "1116/1116 [==============================] - 2s 2ms/step - loss: 0.4518 - val_loss: 0.3797\n",
            "Epoch 7/10\n",
            "1116/1116 [==============================] - 3s 2ms/step - loss: 0.4430 - val_loss: 0.3716\n",
            "Epoch 8/10\n",
            "1116/1116 [==============================] - 3s 2ms/step - loss: 0.4360 - val_loss: 0.3640\n",
            "Epoch 9/10\n",
            "1116/1116 [==============================] - 3s 2ms/step - loss: 0.4297 - val_loss: 0.3574\n",
            "Epoch 10/10\n",
            "1116/1116 [==============================] - 2s 2ms/step - loss: 0.4237 - val_loss: 0.3524\n",
            "\n",
            "## FOLD = 1... ##\n",
            "\n",
            "Model: \"sequential_1\"\n",
            "_________________________________________________________________\n",
            " Layer (type)                Output Shape              Param #   \n",
            "=================================================================\n",
            " dense_4 (Dense)             (None, 128)               1408      \n",
            "                                                                 \n",
            " re_lu_3 (ReLU)              (None, 128)               0         \n",
            "                                                                 \n",
            " dropout_3 (Dropout)         (None, 128)               0         \n",
            "                                                                 \n",
            " dense_5 (Dense)             (None, 64)                8256      \n",
            "                                                                 \n",
            " re_lu_4 (ReLU)              (None, 64)                0         \n",
            "                                                                 \n",
            " dropout_4 (Dropout)         (None, 64)                0         \n",
            "                                                                 \n",
            " dense_6 (Dense)             (None, 32)                2080      \n",
            "                                                                 \n",
            " re_lu_5 (ReLU)              (None, 32)                0         \n",
            "                                                                 \n",
            " dropout_5 (Dropout)         (None, 32)                0         \n",
            "                                                                 \n",
            " dense_7 (Dense)             (None, 4)                 132       \n",
            "                                                                 \n",
            "=================================================================\n",
            "Total params: 11,876\n",
            "Trainable params: 11,876\n",
            "Non-trainable params: 0\n",
            "_________________________________________________________________\n",
            "None\n",
            "Epoch 1/10\n",
            "1116/1116 [==============================] - 3s 2ms/step - loss: 0.6239 - val_loss: 0.4748\n",
            "Epoch 2/10\n",
            "1116/1116 [==============================] - 2s 2ms/step - loss: 0.5092 - val_loss: 0.4396\n",
            "Epoch 3/10\n",
            "1116/1116 [==============================] - 2s 2ms/step - loss: 0.4871 - val_loss: 0.4222\n",
            "Epoch 4/10\n",
            "1116/1116 [==============================] - 2s 2ms/step - loss: 0.4728 - val_loss: 0.4110\n",
            "Epoch 5/10\n",
            "1116/1116 [==============================] - 2s 2ms/step - loss: 0.4628 - val_loss: 0.4001\n",
            "Epoch 6/10\n",
            "1116/1116 [==============================] - 2s 2ms/step - loss: 0.4551 - val_loss: 0.3919\n",
            "Epoch 7/10\n",
            "1116/1116 [==============================] - 3s 2ms/step - loss: 0.4475 - val_loss: 0.3846\n",
            "Epoch 8/10\n",
            "1116/1116 [==============================] - 2s 2ms/step - loss: 0.4395 - val_loss: 0.3756\n",
            "Epoch 9/10\n",
            "1116/1116 [==============================] - 2s 2ms/step - loss: 0.4331 - val_loss: 0.3634\n",
            "Epoch 10/10\n",
            "1116/1116 [==============================] - 2s 2ms/step - loss: 0.4257 - val_loss: 0.3548\n",
            "\n",
            "## FOLD = 2... ##\n",
            "\n",
            "Model: \"sequential_2\"\n",
            "_________________________________________________________________\n",
            " Layer (type)                Output Shape              Param #   \n",
            "=================================================================\n",
            " dense_8 (Dense)             (None, 128)               1408      \n",
            "                                                                 \n",
            " re_lu_6 (ReLU)              (None, 128)               0         \n",
            "                                                                 \n",
            " dropout_6 (Dropout)         (None, 128)               0         \n",
            "                                                                 \n",
            " dense_9 (Dense)             (None, 64)                8256      \n",
            "                                                                 \n",
            " re_lu_7 (ReLU)              (None, 64)                0         \n",
            "                                                                 \n",
            " dropout_7 (Dropout)         (None, 64)                0         \n",
            "                                                                 \n",
            " dense_10 (Dense)            (None, 32)                2080      \n",
            "                                                                 \n",
            " re_lu_8 (ReLU)              (None, 32)                0         \n",
            "                                                                 \n",
            " dropout_8 (Dropout)         (None, 32)                0         \n",
            "                                                                 \n",
            " dense_11 (Dense)            (None, 4)                 132       \n",
            "                                                                 \n",
            "=================================================================\n",
            "Total params: 11,876\n",
            "Trainable params: 11,876\n",
            "Non-trainable params: 0\n",
            "_________________________________________________________________\n",
            "None\n",
            "Epoch 1/10\n",
            "1116/1116 [==============================] - 3s 2ms/step - loss: 0.6144 - val_loss: 0.4753\n",
            "Epoch 2/10\n",
            "1116/1116 [==============================] - 2s 2ms/step - loss: 0.5052 - val_loss: 0.4364\n",
            "Epoch 3/10\n",
            "1116/1116 [==============================] - 2s 2ms/step - loss: 0.4828 - val_loss: 0.4211\n",
            "Epoch 4/10\n",
            "1116/1116 [==============================] - 2s 2ms/step - loss: 0.4682 - val_loss: 0.4087\n",
            "Epoch 5/10\n",
            "1116/1116 [==============================] - 2s 2ms/step - loss: 0.4580 - val_loss: 0.3927\n",
            "Epoch 6/10\n",
            "1116/1116 [==============================] - 2s 2ms/step - loss: 0.4474 - val_loss: 0.3844\n",
            "Epoch 7/10\n",
            "1116/1116 [==============================] - 3s 2ms/step - loss: 0.4373 - val_loss: 0.3734\n",
            "Epoch 8/10\n",
            "1116/1116 [==============================] - 3s 2ms/step - loss: 0.4300 - val_loss: 0.3636\n",
            "Epoch 9/10\n",
            "1116/1116 [==============================] - 3s 2ms/step - loss: 0.4215 - val_loss: 0.3531\n",
            "Epoch 10/10\n",
            "1116/1116 [==============================] - 3s 2ms/step - loss: 0.4168 - val_loss: 0.3474\n",
            "\n",
            "## FINAL MODEL ##\n",
            "\n",
            "Epoch 1/10\n",
            "1674/1674 [==============================] - 4s 2ms/step - loss: 0.4108 - val_loss: 0.3350\n",
            "Epoch 2/10\n",
            "1674/1674 [==============================] - 4s 2ms/step - loss: 0.4048 - val_loss: 0.3317\n",
            "Epoch 3/10\n",
            "1674/1674 [==============================] - 4s 2ms/step - loss: 0.3992 - val_loss: 0.3240\n",
            "Epoch 4/10\n",
            "1674/1674 [==============================] - 5s 3ms/step - loss: 0.3943 - val_loss: 0.3174\n",
            "Epoch 5/10\n",
            "1674/1674 [==============================] - 4s 3ms/step - loss: 0.3900 - val_loss: 0.3091\n",
            "Epoch 6/10\n",
            "1674/1674 [==============================] - 4s 2ms/step - loss: 0.3867 - val_loss: 0.3089\n",
            "Epoch 7/10\n",
            "1674/1674 [==============================] - 4s 2ms/step - loss: 0.3827 - val_loss: 0.3016\n",
            "Epoch 8/10\n",
            "1674/1674 [==============================] - 4s 2ms/step - loss: 0.3805 - val_loss: 0.3019\n",
            "Epoch 9/10\n",
            "1674/1674 [==============================] - 4s 2ms/step - loss: 0.3762 - val_loss: 0.2955\n",
            "Epoch 10/10\n",
            "1674/1674 [==============================] - 4s 2ms/step - loss: 0.3743 - val_loss: 0.2942\n"
          ]
        }
      ]
    },
    {
      "cell_type": "code",
      "source": [
        "# plot results of final model\n",
        "\n",
        "fig, ax = plt.subplots()\n",
        "ax.scatter(results['chl']['final']['ytest'], results['chl']['final']['yhat'],s=.1,c='k')\n",
        "ax.set_title('Chl-a')\n",
        "\n",
        "fig, ax = plt.subplots()\n",
        "ax.scatter(results['PC']['final']['ytest'], results['PC']['final']['yhat'],s=.1,c='k')\n",
        "ax.set_title('PC')"
      ],
      "metadata": {
        "colab": {
          "base_uri": "https://localhost:8080/",
          "height": 562
        },
        "id": "BE0p-Cdyi-VA",
        "outputId": "19c0722f-04e3-40ad-c0c4-161a26066c18"
      },
      "execution_count": 9,
      "outputs": [
        {
          "output_type": "execute_result",
          "data": {
            "text/plain": [
              "Text(0.5, 1.0, 'PC')"
            ]
          },
          "metadata": {},
          "execution_count": 9
        },
        {
          "output_type": "display_data",
          "data": {
            "text/plain": [
              "<Figure size 432x288 with 1 Axes>"
            ],
            "image/png": "[encoded data removed]"
          },
          "metadata": {
            "needs_background": "light"
          }
        },
        {
          "output_type": "display_data",
          "data": {
            "text/plain": [
              "<Figure size 432x288 with 1 Axes>"
            ],
            "image/png": "[encoded data removed]"
          },
          "metadata": {
            "needs_background": "light"
          }
        }
      ]
    },
    {
      "cell_type": "code",
      "source": [
        "results.keys()"
      ],
      "metadata": {
        "colab": {
          "base_uri": "https://localhost:8080/"
        },
        "id": "HcMJ8wQDjHAE",
        "outputId": "c9ff61b8-7ed1-409d-fd6a-13d5544d51ae"
      },
      "execution_count": 10,
      "outputs": [
        {
          "output_type": "execute_result",
          "data": {
            "text/plain": [
              "dict_keys(['chl', 'fit_time', 'pred_time', 'train_loss', 'val_loss', 'PC', 'cnap', 'batch_info'])"
            ]
          },
          "metadata": {},
          "execution_count": 10
        }
      ]
    },
    {
      "cell_type": "code",
      "source": [
        "results['chl']['owt']['Mild']"
      ],
      "metadata": {
        "colab": {
          "base_uri": "https://localhost:8080/"
        },
        "id": "4NNUFkZwjULe",
        "outputId": "b6216824-d5f9-4977-81cf-7e7c9b7c052b"
      },
      "execution_count": 11,
      "outputs": [
        {
          "output_type": "execute_result",
          "data": {
            "text/plain": [
              "{'Bias': [0.026299881183511134],\n",
              " 'MAPE': [19.343771552751928],\n",
              " 'R2': [0.7559586477915872],\n",
              " 'RMSE': [65.42064780197934],\n",
              " 'RMSELE': [0.6146664086882241],\n",
              " 'rRMSE': [174.03014648747012],\n",
              " 'yhat': [0       3.733974\n",
              "  1       3.297457\n",
              "  5       1.931853\n",
              "  8       3.715275\n",
              "  11      2.449918\n",
              "            ...   \n",
              "  6591    3.544589\n",
              "  6603    1.956423\n",
              "  6604    1.481520\n",
              "  6608    3.986712\n",
              "  6609    2.904635\n",
              "  Name: chl, Length: 1124, dtype: float64],\n",
              " 'ytest': [0       3.583547\n",
              "  1       3.175592\n",
              "  5       1.944624\n",
              "  8       3.608780\n",
              "  11      1.979759\n",
              "            ...   \n",
              "  6591    3.406218\n",
              "  6603    1.798570\n",
              "  6604    1.047670\n",
              "  6608    3.394206\n",
              "  6609    2.596075\n",
              "  Name: chl, Length: 1124, dtype: float64]}"
            ]
          },
          "metadata": {},
          "execution_count": 11
        }
      ]
    },
    {
      "cell_type": "code",
      "source": [
        ""
      ],
      "metadata": {
        "id": "Q4RJQ0AcjX18"
      },
      "execution_count": null,
      "outputs": []
    }
  ]
}